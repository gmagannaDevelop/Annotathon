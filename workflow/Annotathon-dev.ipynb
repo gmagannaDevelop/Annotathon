{
 "cells": [
  {
   "cell_type": "markdown",
   "metadata": {},
   "source": [
    "# Annotathon\n",
    "\n",
    "## Équipe : BOUTAMAGAN\n",
    "\n",
    "### Étudiants :\n",
    "- BOUTARD Anthony\n",
    "- MAGAÑA LOPEZ Gustavo\n",
    "\n",
    "Dans le spirit d'assurer que nos expériences et annotations puissent être "
   ]
  },
  {
   "cell_type": "code",
   "execution_count": 1,
   "metadata": {},
   "outputs": [],
   "source": [
    "import os\n",
    "import sys\n",
    "\n",
    "import pandas as pd\n",
    "\n",
    "from urllib.request import urlretrieve\n",
    "\n",
    "import Bio\n",
    "from Bio import SeqIO, SearchIO, Entrez\n",
    "from Bio.Seq import Seq\n",
    "from Bio.SeqUtils import GC\n",
    "from Bio.Blast import NCBIWWW\n",
    "from Bio.Data import CodonTable\n",
    "\n",
    "import ipywidgets as widgets"
   ]
  },
  {
   "cell_type": "code",
   "execution_count": 20,
   "metadata": {},
   "outputs": [],
   "source": [
    "# Make our tools visible (Package annotathon) :\n",
    "sys.path.append(\"..\")"
   ]
  },
  {
   "cell_type": "code",
   "execution_count": 5,
   "metadata": {},
   "outputs": [],
   "source": [
    "from annotathon.utils.customobjs import (\n",
    "    objdict,\n",
    "    Path as path\n",
    ")"
   ]
  },
  {
   "cell_type": "code",
   "execution_count": 6,
   "metadata": {},
   "outputs": [
    {
     "name": "stdout",
     "output_type": "stream",
     "text": [
      "Python version: sys.version_info(major=3, minor=8, micro=6, releaselevel='final', serial=0)\n",
      "Biopython version: 1.78\n"
     ]
    }
   ],
   "source": [
    "print(\"Python version:\", sys.version_info)\n",
    "print(\"Biopython version:\", Bio.__version__)"
   ]
  },
  {
   "cell_type": "code",
   "execution_count": 7,
   "metadata": {},
   "outputs": [],
   "source": [
    "paths = objdict({\n",
    "    \"root\": path(\"..\"),\n",
    "    \"data\": path(\"../data/\"),\n",
    "    \"assets\": path(\"../assets/\")\n",
    "})"
   ]
  },
  {
   "cell_type": "code",
   "execution_count": 12,
   "metadata": {},
   "outputs": [
    {
     "data": {
      "text/plain": [
       "[PosixPath('../data/first')]"
      ]
     },
     "execution_count": 12,
     "metadata": {},
     "output_type": "execute_result"
    }
   ],
   "source": [
    "paths.data.lglob(\"*\")"
   ]
  },
  {
   "cell_type": "markdown",
   "metadata": {},
   "source": [
    "Set our current environment for working with the data:"
   ]
  },
  {
   "cell_type": "code",
   "execution_count": 17,
   "metadata": {},
   "outputs": [],
   "source": [
    "paths.update(objdict({\n",
    "    \"current\": path(\"../data/first/\")\n",
    "}))"
   ]
  },
  {
   "cell_type": "code",
   "execution_count": 21,
   "metadata": {},
   "outputs": [
    {
     "data": {
      "text/plain": [
       "[PosixPath('../data/first/UGB49UTF013-Alignment.xml'),\n",
       " PosixPath('../data/first/seq1.fasta'),\n",
       " PosixPath('../data/first/aver.blastn')]"
      ]
     },
     "execution_count": 21,
     "metadata": {},
     "output_type": "execute_result"
    }
   ],
   "source": [
    "paths.current.lglob(\"*\")"
   ]
  },
  {
   "cell_type": "code",
   "execution_count": 24,
   "metadata": {},
   "outputs": [],
   "source": [
    "input_file = paths.current.lglob(\"*.fasta\")[0]"
   ]
  },
  {
   "cell_type": "code",
   "execution_count": 25,
   "metadata": {},
   "outputs": [],
   "source": [
    "record = SeqIO.read(input_file, \"fasta\")"
   ]
  },
  {
   "cell_type": "code",
   "execution_count": 27,
   "metadata": {},
   "outputs": [
    {
     "data": {
      "text/plain": [
       "Seq('ACTAAAGGCAAATTGGAAGAGCTTGGCATAAAAACAATCACTGATTTAATCTTA...TAA')"
      ]
     },
     "execution_count": 27,
     "metadata": {},
     "output_type": "execute_result"
    }
   ],
   "source": [
    "record.seq"
   ]
  },
  {
   "cell_type": "code",
   "execution_count": 30,
   "metadata": {},
   "outputs": [],
   "source": [
    "ac_aminees = pd.read_csv(paths.assets.lglob(\"*.csv\")[0])"
   ]
  },
  {
   "cell_type": "code",
   "execution_count": 32,
   "metadata": {},
   "outputs": [
    {
     "data": {
      "text/html": [
       "<div>\n",
       "<style scoped>\n",
       "    .dataframe tbody tr th:only-of-type {\n",
       "        vertical-align: middle;\n",
       "    }\n",
       "\n",
       "    .dataframe tbody tr th {\n",
       "        vertical-align: top;\n",
       "    }\n",
       "\n",
       "    .dataframe thead th {\n",
       "        text-align: right;\n",
       "    }\n",
       "</style>\n",
       "<table border=\"1\" class=\"dataframe\">\n",
       "  <thead>\n",
       "    <tr style=\"text-align: right;\">\n",
       "      <th></th>\n",
       "      <th>one_letter</th>\n",
       "      <th>three_letter</th>\n",
       "      <th>name_en</th>\n",
       "      <th>molecular_weight_Da</th>\n",
       "    </tr>\n",
       "  </thead>\n",
       "  <tbody>\n",
       "    <tr>\n",
       "      <th>0</th>\n",
       "      <td>A</td>\n",
       "      <td>ala</td>\n",
       "      <td>alanine</td>\n",
       "      <td>89</td>\n",
       "    </tr>\n",
       "    <tr>\n",
       "      <th>1</th>\n",
       "      <td>R</td>\n",
       "      <td>arg</td>\n",
       "      <td>arginine</td>\n",
       "      <td>174</td>\n",
       "    </tr>\n",
       "    <tr>\n",
       "      <th>2</th>\n",
       "      <td>N</td>\n",
       "      <td>asn</td>\n",
       "      <td>asparagine</td>\n",
       "      <td>132</td>\n",
       "    </tr>\n",
       "    <tr>\n",
       "      <th>3</th>\n",
       "      <td>D</td>\n",
       "      <td>asp</td>\n",
       "      <td>aspartic acid</td>\n",
       "      <td>133</td>\n",
       "    </tr>\n",
       "    <tr>\n",
       "      <th>4</th>\n",
       "      <td>B</td>\n",
       "      <td>asx</td>\n",
       "      <td>asparagine or aspartic acid</td>\n",
       "      <td>133</td>\n",
       "    </tr>\n",
       "  </tbody>\n",
       "</table>\n",
       "</div>"
      ],
      "text/plain": [
       "  one_letter three_letter                      name_en  molecular_weight_Da\n",
       "0          A          ala                      alanine                   89\n",
       "1          R          arg                     arginine                  174\n",
       "2          N          asn                   asparagine                  132\n",
       "3          D          asp                aspartic acid                  133\n",
       "4          B          asx  asparagine or aspartic acid                  133"
      ]
     },
     "execution_count": 32,
     "metadata": {},
     "output_type": "execute_result"
    }
   ],
   "source": [
    "ac_aminees.head()"
   ]
  },
  {
   "cell_type": "code",
   "execution_count": null,
   "metadata": {},
   "outputs": [],
   "source": []
  }
 ],
 "metadata": {
  "kernelspec": {
   "display_name": "Python 3",
   "language": "python",
   "name": "python3"
  },
  "language_info": {
   "codemirror_mode": {
    "name": "ipython",
    "version": 3
   },
   "file_extension": ".py",
   "mimetype": "text/x-python",
   "name": "python",
   "nbconvert_exporter": "python",
   "pygments_lexer": "ipython3",
   "version": "3.8.6"
  }
 },
 "nbformat": 4,
 "nbformat_minor": 4
}
