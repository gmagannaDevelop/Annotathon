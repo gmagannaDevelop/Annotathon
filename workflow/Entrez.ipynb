{
 "cells": [
  {
   "cell_type": "markdown",
   "metadata": {},
   "source": [
    "# Taxonomic analysis \n",
    "\n",
    "Preambule to Multiple Sequence alignment and Phylogenetic tree building."
   ]
  },
  {
   "cell_type": "markdown",
   "metadata": {},
   "source": [
    "### Import necessary modules "
   ]
  },
  {
   "cell_type": "code",
   "execution_count": 24,
   "metadata": {},
   "outputs": [],
   "source": [
    "from Bio import (\n",
    "    SeqIO as seqio, \n",
    "    SearchIO as searchio, \n",
    "    Entrez as entrez\n",
    ")\n",
    "\n",
    "from Bio.Seq import Seq as seq\n",
    "\n",
    "import toml\n",
    "\n",
    "import pandas as pd\n",
    "import numpy as np\n",
    "import matplotlib.pyplot as plt\n",
    "import seaborn as sns\n",
    "\n",
    "from functools import partial \n",
    "\n",
    "from annotathon.utils.customobjs import (\n",
    "    Path as path,\n",
    "    objdict as odict\n",
    ")\n",
    "\n",
    "from annotathon.parsing.blast import parse_alignment_descriptions as parse_ncbi"
   ]
  },
  {
   "cell_type": "markdown",
   "metadata": {},
   "source": [
    "### Configuration to access NCBI's servers :"
   ]
  },
  {
   "cell_type": "code",
   "execution_count": 48,
   "metadata": {},
   "outputs": [],
   "source": [
    "# Load configuration to access NCBI :\n",
    "with open(\"../creds/entrezpy.toml\", \"r\") as f:\n",
    "    ncbi = toml.load(f, _dict=odict)"
   ]
  },
  {
   "cell_type": "code",
   "execution_count": 41,
   "metadata": {},
   "outputs": [],
   "source": [
    "# set credentials : \n",
    "entrez.api_key = ncbi.credentials.apikey\n",
    "entrez.email = ncbi.credentials.email\n",
    "entrez.tool = ncbi.credentials.tool"
   ]
  },
  {
   "cell_type": "code",
   "execution_count": 47,
   "metadata": {},
   "outputs": [],
   "source": [
    "# set plotting params :\n",
    "%matplotlib inline\n",
    "plt.style.use('seaborn')\n",
    "plt.rcParams['figure.figsize'] = (15, 8)"
   ]
  },
  {
   "cell_type": "code",
   "execution_count": 52,
   "metadata": {},
   "outputs": [
    {
     "data": {
      "text/plain": [
       "{'locations': {'default': '../data/homologues-par-blast/default-nr',\n",
       "  'cinqk': '../data/homologues-par-blast/5k-nr',\n",
       "  'landmark': '../data/homologues-par-blast/landmark-noexclude',\n",
       "  'sp': '../data/homologues-par-blast/swissprot',\n",
       "  'anthony': '../data/anthony/'}}"
      ]
     },
     "execution_count": 52,
     "metadata": {},
     "output_type": "execute_result"
    }
   ],
   "source": [
    "with open(\"../config/locations.toml\", \"r\") as f:\n",
    "    _config = toml.load(f, _dict=odict)\n",
    "_config"
   ]
  },
  {
   "cell_type": "code",
   "execution_count": 56,
   "metadata": {},
   "outputs": [
    {
     "data": {
      "text/plain": [
       "{'default': PosixPath('../data/homologues-par-blast/default-nr'),\n",
       " 'cinqk': PosixPath('../data/homologues-par-blast/5k-nr'),\n",
       " 'landmark': PosixPath('../data/homologues-par-blast/landmark-noexclude'),\n",
       " 'sp': PosixPath('../data/homologues-par-blast/swissprot'),\n",
       " 'anthony': PosixPath('../data/anthony')}"
      ]
     },
     "execution_count": 56,
     "metadata": {},
     "output_type": "execute_result"
    }
   ],
   "source": [
    "locations = odict({ \n",
    "    key: path(value) for key, value in _config.locations.items()\n",
    "})\n",
    "locations"
   ]
  },
  {
   "cell_type": "code",
   "execution_count": 58,
   "metadata": {},
   "outputs": [
    {
     "data": {
      "text/plain": [
       "{'locations': {'default': PosixPath('../data/homologues-par-blast/default-nr'),\n",
       "  'cinqk': PosixPath('../data/homologues-par-blast/5k-nr'),\n",
       "  'landmark': PosixPath('../data/homologues-par-blast/landmark-noexclude'),\n",
       "  'sp': PosixPath('../data/homologues-par-blast/swissprot'),\n",
       "  'anthony': PosixPath('../data/anthony')},\n",
       " 'data': {}}"
      ]
     },
     "execution_count": 58,
     "metadata": {},
     "output_type": "execute_result"
    }
   ],
   "source": [
    "blast = odict({\n",
    "    \"locations\": locations,\n",
    "    \"data\": odict({})\n",
    "})\n",
    "blast"
   ]
  },
  {
   "cell_type": "code",
   "execution_count": 59,
   "metadata": {},
   "outputs": [],
   "source": [
    "description_glob = \"*Alignment-Descriptions*\""
   ]
  },
  {
   "cell_type": "code",
   "execution_count": 60,
   "metadata": {},
   "outputs": [],
   "source": [
    "blast.data.update(odict({\n",
    "    \"default\": parse_ncbi(blast.locations.default.lglob(description_glob)[0]),\n",
    "    \"cinqk\": parse_ncbi(blast.locations.cinqk.lglob(description_glob)[0]),\n",
    "    \"landmark\": parse_ncbi(blast.locations.landmark.lglob(description_glob)[0]),\n",
    "    \"sp\": parse_ncbi(blast.locations.sp.lglob(description_glob)[0]),\n",
    "    \"taxo\": parse_ncbi(blast.locations.anthony.lglob(description_glob)[0]),\n",
    "    \"hypo\": parse_ncbi(blast.locations.anthony.lglob(\"*.csv\")[1])\n",
    "}))"
   ]
  },
  {
   "cell_type": "code",
   "execution_count": 32,
   "metadata": {},
   "outputs": [],
   "source": [
    "tests = pd.read_csv(\"efetch-tests.csv\")"
   ]
  },
  {
   "cell_type": "code",
   "execution_count": 27,
   "metadata": {},
   "outputs": [],
   "source": [
    "with entrez.esearch(db=\"pubmed\", term=\"biopython\") as wow:\n",
    "    x = entrez.read(wow)"
   ]
  },
  {
   "cell_type": "code",
   "execution_count": 44,
   "metadata": {},
   "outputs": [],
   "source": [
    "with entrez.efetch(db=\"protein\", id=tests.Accession.to_list(), rettype=\"gb\", retmode=\"text\") as finallyyeah:\n",
    "    y = [ entry for entry in seqio.parse(finallyyeah, format=\"gb\") ]"
   ]
  },
  {
   "cell_type": "code",
   "execution_count": 45,
   "metadata": {},
   "outputs": [
    {
     "name": "stdout",
     "output_type": "stream",
     "text": [
      "['Bacteria', 'Proteobacteria', 'Alphaproteobacteria', 'Pelagibacterales', 'unclassified Pelagibacterales']\n",
      "[]\n",
      "['Bacteria', 'Proteobacteria', 'Gammaproteobacteria']\n",
      "['Bacteria', 'Proteobacteria', 'Gammaproteobacteria']\n",
      "['Bacteria', 'Proteobacteria', 'Gammaproteobacteria']\n",
      "['Bacteria', 'Proteobacteria', 'Gammaproteobacteria']\n",
      "['Bacteria', 'Proteobacteria', 'Gammaproteobacteria']\n",
      "['Bacteria', 'Proteobacteria', 'Gammaproteobacteria']\n",
      "['Bacteria', 'Proteobacteria', 'Gammaproteobacteria']\n",
      "['Bacteria', 'Proteobacteria', 'Gammaproteobacteria']\n",
      "['Bacteria', 'Proteobacteria', 'Gammaproteobacteria']\n",
      "['Bacteria', 'Firmicutes', 'Erysipelotrichia', 'Erysipelotrichales', 'Erysipelotrichaceae', 'Turicibacter']\n",
      "['Bacteria', 'Firmicutes', 'Erysipelotrichia', 'Erysipelotrichales', 'Erysipelotrichaceae', 'Turicibacter']\n",
      "['Bacteria', 'Firmicutes', 'Erysipelotrichia', 'Erysipelotrichales', 'Erysipelotrichaceae', 'Turicibacter']\n",
      "['Bacteria', 'Proteobacteria', 'Gammaproteobacteria']\n"
     ]
    }
   ],
   "source": [
    "for i in y:\n",
    "    print(i.annotations[\"taxonomy\"])"
   ]
  },
  {
   "cell_type": "code",
   "execution_count": null,
   "metadata": {},
   "outputs": [],
   "source": [
    "with open(\"cor6_6.gb\", \"rU\") as input_handle, open(\n",
    "    \"cor6_6.fasta\", \"w\"\n",
    ") as output_handle:\n",
    "    sequences = SeqIO.parse(input_handle, \"genbank\")\n",
    "    count = SeqIO.write(sequences, output_handle, \"fasta\")"
   ]
  },
  {
   "cell_type": "code",
   "execution_count": 69,
   "metadata": {},
   "outputs": [],
   "source": [
    "# SAVE AS GENEBANK ! \n",
    "# FASTA LOSES LOTS OF INFORMATION !"
   ]
  },
  {
   "cell_type": "code",
   "execution_count": 68,
   "metadata": {},
   "outputs": [],
   "source": [
    "with entrez.efetch(db=\"protein\", id=tests.Accession.to_list(), rettype=\"gb\", retmode=\"text\") as in_handle:\n",
    "    with open(\"gb-out-test.gb\", \"w\") as out_handle:\n",
    "        with open(\"fasta-out-test.fasta\", \"w\") as o2:\n",
    "            sequences = seqio.parse(in_handle, format=\"gb\")\n",
    "            #seqio.write(sequences, out_handle, format=\"gb\") \n",
    "            seqio.write(sequences, o2, format=\"fasta\") "
   ]
  },
  {
   "cell_type": "code",
   "execution_count": 61,
   "metadata": {
    "scrolled": false
   },
   "outputs": [
    {
     "name": "stdout",
     "output_type": "stream",
     "text": [
      "LOCUS       EU490707                1302 bp    DNA     linear   PLN 26-JUL-2016\n",
      "DEFINITION  Selenipedium aequinoctiale maturase K (matK) gene, partial cds;\n",
      "            chloroplast.\n",
      "ACCESSION   EU490707\n",
      "VERSION     EU490707.1\n",
      "KEYWORDS    .\n",
      "SOURCE      chloroplast Selenipedium aequinoctiale\n",
      "  ORGANISM  Selenipedium aequinoctiale\n",
      "            Eukaryota; Viridiplantae; Streptophyta; Embryophyta; Tracheophyta;\n",
      "            Spermatophyta; Magnoliopsida; Liliopsida; Asparagales; Orchidaceae;\n",
      "            Cypripedioideae; Selenipedium.\n",
      "REFERENCE   1  (bases 1 to 1302)\n",
      "  AUTHORS   Neubig,K.M., Whitten,W.M., Carlsward,B.S., Blanco,M.A., Endara,L.,\n",
      "            Williams,N.H. and Moore,M.\n",
      "  TITLE     Phylogenetic utility of ycf1 in orchids: a plastid gene more\n",
      "            variable than matK\n",
      "  JOURNAL   Plant Syst. Evol. 277 (1-2), 75-84 (2009)\n",
      "REFERENCE   2  (bases 1 to 1302)\n",
      "  AUTHORS   Neubig,K.M., Whitten,W.M., Carlsward,B.S., Blanco,M.A.,\n",
      "            Endara,C.L., Williams,N.H. and Moore,M.J.\n",
      "  TITLE     Direct Submission\n",
      "  JOURNAL   Submitted (14-FEB-2008) Department of Botany, University of\n",
      "            Florida, 220 Bartram Hall, Gainesville, FL 32611-8526, USA\n",
      "FEATURES             Location/Qualifiers\n",
      "     source          1..1302\n",
      "                     /organism=\"Selenipedium aequinoctiale\"\n",
      "                     /organelle=\"plastid:chloroplast\"\n",
      "                     /mol_type=\"genomic DNA\"\n",
      "                     /specimen_voucher=\"FLAS:Blanco 2475\"\n",
      "                     /db_xref=\"taxon:256374\"\n",
      "     gene            <1..>1302\n",
      "                     /gene=\"matK\"\n",
      "     CDS             <1..>1302\n",
      "                     /gene=\"matK\"\n",
      "                     /codon_start=1\n",
      "                     /transl_table=11\n",
      "                     /product=\"maturase K\"\n",
      "                     /protein_id=\"ACC99456.1\"\n",
      "                     /translation=\"IFYEPVEIFGYDNKSSLVLVKRLITRMYQQNFLISSVNDSNQKG\n",
      "                     FWGHKHFFSSHFSSQMVSEGFGVILEIPFSSQLVSSLEEKKIPKYQNLRSIHSIFPFL\n",
      "                     EDKFLHLNYVSDLLIPHPIHLEILVQILQCRIKDVPSLHLLRLLFHEYHNLNSLITSK\n",
      "                     KFIYAFSKRKKRFLWLLYNSYVYECEYLFQFLRKQSSYLRSTSSGVFLERTHLYVKIE\n",
      "                     HLLVVCCNSFQRILCFLKDPFMHYVRYQGKAILASKGTLILMKKWKFHLVNFWQSYFH\n",
      "                     FWSQPYRIHIKQLSNYSFSFLGYFSSVLENHLVVRNQMLENSFIINLLTKKFDTIAPV\n",
      "                     ISLIGSLSKAQFCTVLGHPISKPIWTDFSDSDILDRFCRICRNLCRYHSGSSKKQVLY\n",
      "                     RIKYILRLSCARTLARKHKSTVRTFMRRLGSGLLEEFFMEEE\"\n",
      "ORIGIN      \n",
      "        1 attttttacg aacctgtgga aatttttggt tatgacaata aatctagttt agtacttgtg\n",
      "       61 aaacgtttaa ttactcgaat gtatcaacag aattttttga tttcttcggt taatgattct\n",
      "      121 aaccaaaaag gattttgggg gcacaagcat tttttttctt ctcatttttc ttctcaaatg\n",
      "      181 gtatcagaag gttttggagt cattctggaa attccattct cgtcgcaatt agtatcttct\n",
      "      241 cttgaagaaa aaaaaatacc aaaatatcag aatttacgat ctattcattc aatatttccc\n",
      "      301 tttttagaag acaaattttt acatttgaat tatgtgtcag atctactaat accccatccc\n",
      "      361 atccatctgg aaatcttggt tcaaatcctt caatgccgga tcaaggatgt tccttctttg\n",
      "      421 catttattgc gattgctttt ccacgaatat cataatttga atagtctcat tacttcaaag\n",
      "      481 aaattcattt acgccttttc aaaaagaaag aaaagattcc tttggttact atataattct\n",
      "      541 tatgtatatg aatgcgaata tctattccag tttcttcgta aacagtcttc ttatttacga\n",
      "      601 tcaacatctt ctggagtctt tcttgagcga acacatttat atgtaaaaat agaacatctt\n",
      "      661 ctagtagtgt gttgtaattc ttttcagagg atcctatgct ttctcaagga tcctttcatg\n",
      "      721 cattatgttc gatatcaagg aaaagcaatt ctggcttcaa agggaactct tattctgatg\n",
      "      781 aagaaatgga aatttcatct tgtgaatttt tggcaatctt attttcactt ttggtctcaa\n",
      "      841 ccgtatagga ttcatataaa gcaattatcc aactattcct tctcttttct ggggtatttt\n",
      "      901 tcaagtgtac tagaaaatca tttggtagta agaaatcaaa tgctagagaa ttcatttata\n",
      "      961 ataaatcttc tgactaagaa attcgatacc atagccccag ttatttctct tattggatca\n",
      "     1021 ttgtcgaaag ctcaattttg tactgtattg ggtcatccta ttagtaaacc gatctggacc\n",
      "     1081 gatttctcgg attctgatat tcttgatcga ttttgccgga tatgtagaaa tctttgtcgt\n",
      "     1141 tatcacagcg gatcctcaaa aaaacaggtt ttgtatcgta taaaatatat acttcgactt\n",
      "     1201 tcgtgtgcta gaactttggc acggaaacat aaaagtacag tacgcacttt tatgcgaaga\n",
      "     1261 ttaggttcgg gattattaga agaattcttt atggaagaag aa\n",
      "//\n",
      "\n",
      "\n"
     ]
    }
   ],
   "source": [
    "# some dummy test : \n",
    "with entrez.efetch(db=\"nucleotide\", id=\"EU490707\", rettype=\"gb\", retmode=\"text\") as wow:\n",
    "    print(wow.read())"
   ]
  },
  {
   "cell_type": "code",
   "execution_count": 18,
   "metadata": {},
   "outputs": [
    {
     "name": "stdout",
     "output_type": "stream",
     "text": [
      "Help on function efetch in module Bio.Entrez:\n",
      "\n",
      "efetch(db, **keywords)\n",
      "    Fetch Entrez results which are returned as a handle.\n",
      "    \n",
      "    EFetch retrieves records in the requested format from a list or set of one or\n",
      "    more UIs or from user's environment.\n",
      "    \n",
      "    See the online documentation for an explanation of the parameters:\n",
      "    http://www.ncbi.nlm.nih.gov/books/NBK25499/#chapter4.EFetch\n",
      "    \n",
      "    Return a handle to the results.\n",
      "    \n",
      "    Raises an IOError exception if there's a network error.\n",
      "    \n",
      "    Short example:\n",
      "    \n",
      "    >>> from Bio import Entrez\n",
      "    >>> Entrez.email = \"Your.Name.Here@example.org\"\n",
      "    >>> handle = Entrez.efetch(db=\"nucleotide\", id=\"AY851612\", rettype=\"gb\", retmode=\"text\")\n",
      "    >>> print(handle.readline().strip())\n",
      "    LOCUS       AY851612                 892 bp    DNA     linear   PLN 10-APR-2007\n",
      "    >>> handle.close()\n",
      "    \n",
      "    This will automatically use an HTTP POST rather than HTTP GET if there\n",
      "    are over 200 identifiers as recommended by the NCBI.\n",
      "    \n",
      "    **Warning:** The NCBI changed the default retmode in Feb 2012, so many\n",
      "    databases which previously returned text output now give XML.\n",
      "\n"
     ]
    }
   ],
   "source": [
    "help(entrez.efetch)"
   ]
  },
  {
   "cell_type": "code",
   "execution_count": null,
   "metadata": {},
   "outputs": [],
   "source": []
  }
 ],
 "metadata": {
  "kernelspec": {
   "display_name": "Python 3",
   "language": "python",
   "name": "python3"
  },
  "language_info": {
   "codemirror_mode": {
    "name": "ipython",
    "version": 3
   },
   "file_extension": ".py",
   "mimetype": "text/x-python",
   "name": "python",
   "nbconvert_exporter": "python",
   "pygments_lexer": "ipython3",
   "version": "3.8.6"
  }
 },
 "nbformat": 4,
 "nbformat_minor": 4
}
