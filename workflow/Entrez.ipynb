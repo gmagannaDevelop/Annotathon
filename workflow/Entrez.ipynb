{
 "cells": [
  {
   "cell_type": "markdown",
   "metadata": {},
   "source": [
    "# Taxonomic analysis \n",
    "\n",
    "Preambule to Multiple Sequence alignment and Phylogenetic tree building."
   ]
  },
  {
   "cell_type": "markdown",
   "metadata": {},
   "source": [
    "### Import necessary modules "
   ]
  },
  {
   "cell_type": "code",
   "execution_count": 1,
   "metadata": {},
   "outputs": [],
   "source": [
    "from Bio import (\n",
    "    SeqIO as seqio, \n",
    "    SearchIO as searchio, \n",
    "    Entrez as entrez\n",
    ")\n",
    "\n",
    "from Bio.Seq import Seq as seq\n",
    "\n",
    "import toml\n",
    "\n",
    "import pandas as pd\n",
    "import numpy as np\n",
    "import matplotlib.pyplot as plt\n",
    "import seaborn as sns\n",
    "\n",
    "from functools import partial \n",
    "\n",
    "from annotathon.utils.customobjs import (\n",
    "    Path as path,\n",
    "    objdict as odict\n",
    ")\n",
    "\n",
    "from annotathon.parsing.blast import parse_alignment_descriptions as parse_ncbi\n",
    "from annotathon.annotation.helper_functions import *"
   ]
  },
  {
   "cell_type": "markdown",
   "metadata": {},
   "source": [
    "### Configuration to access NCBI's servers :"
   ]
  },
  {
   "cell_type": "code",
   "execution_count": 2,
   "metadata": {},
   "outputs": [],
   "source": [
    "# Load configuration to access NCBI :\n",
    "with open(\"../creds/entrezpy.toml\", \"r\") as f:\n",
    "    ncbi = toml.load(f, _dict=odict)"
   ]
  },
  {
   "cell_type": "code",
   "execution_count": 3,
   "metadata": {},
   "outputs": [],
   "source": [
    "# set credentials : \n",
    "entrez.api_key = ncbi.credentials.apikey\n",
    "entrez.email = ncbi.credentials.email\n",
    "entrez.tool = ncbi.credentials.tool"
   ]
  },
  {
   "cell_type": "code",
   "execution_count": 4,
   "metadata": {},
   "outputs": [],
   "source": [
    "# set plotting params :\n",
    "%matplotlib inline\n",
    "plt.style.use('seaborn')\n",
    "plt.rcParams['figure.figsize'] = (15, 8)"
   ]
  },
  {
   "cell_type": "code",
   "execution_count": 5,
   "metadata": {},
   "outputs": [
    {
     "data": {
      "text/plain": [
       "{'locations': {'default': '../data/homologues-par-blast/default-nr',\n",
       "  'cinqk': '../data/homologues-par-blast/5k-nr',\n",
       "  'landmark': '../data/homologues-par-blast/landmark-noexclude',\n",
       "  'sp': '../data/homologues-par-blast/swissprot',\n",
       "  'anthony': '../data/anthony/'}}"
      ]
     },
     "execution_count": 5,
     "metadata": {},
     "output_type": "execute_result"
    }
   ],
   "source": [
    "with open(\"../config/locations.toml\", \"r\") as f:\n",
    "    _config = toml.load(f, _dict=odict)\n",
    "_config"
   ]
  },
  {
   "cell_type": "code",
   "execution_count": 6,
   "metadata": {},
   "outputs": [
    {
     "data": {
      "text/plain": [
       "{'default': PosixPath('../data/homologues-par-blast/default-nr'),\n",
       " 'cinqk': PosixPath('../data/homologues-par-blast/5k-nr'),\n",
       " 'landmark': PosixPath('../data/homologues-par-blast/landmark-noexclude'),\n",
       " 'sp': PosixPath('../data/homologues-par-blast/swissprot'),\n",
       " 'anthony': PosixPath('../data/anthony')}"
      ]
     },
     "execution_count": 6,
     "metadata": {},
     "output_type": "execute_result"
    }
   ],
   "source": [
    "locations = odict({ \n",
    "    key: path(value) for key, value in _config.locations.items()\n",
    "})\n",
    "locations"
   ]
  },
  {
   "cell_type": "code",
   "execution_count": 7,
   "metadata": {},
   "outputs": [
    {
     "data": {
      "text/plain": [
       "{'locations': {'default': PosixPath('../data/homologues-par-blast/default-nr'),\n",
       "  'cinqk': PosixPath('../data/homologues-par-blast/5k-nr'),\n",
       "  'landmark': PosixPath('../data/homologues-par-blast/landmark-noexclude'),\n",
       "  'sp': PosixPath('../data/homologues-par-blast/swissprot'),\n",
       "  'anthony': PosixPath('../data/anthony')},\n",
       " 'data': {}}"
      ]
     },
     "execution_count": 7,
     "metadata": {},
     "output_type": "execute_result"
    }
   ],
   "source": [
    "blast = odict({\n",
    "    \"locations\": locations,\n",
    "    \"data\": odict({})\n",
    "})\n",
    "blast"
   ]
  },
  {
   "cell_type": "code",
   "execution_count": 8,
   "metadata": {},
   "outputs": [],
   "source": [
    "description_glob = \"*Alignment-Descriptions*\""
   ]
  },
  {
   "cell_type": "markdown",
   "metadata": {},
   "source": [
    "### Load blast alignment descriptions"
   ]
  },
  {
   "cell_type": "code",
   "execution_count": 9,
   "metadata": {},
   "outputs": [],
   "source": [
    "blast.data.update(odict({\n",
    "    \"default\": parse_ncbi(blast.locations.default.lglob(description_glob)[0]),\n",
    "    \"cinqk\": parse_ncbi(blast.locations.cinqk.lglob(description_glob)[0]),\n",
    "    \"landmark\": parse_ncbi(blast.locations.landmark.lglob(description_glob)[0]),\n",
    "    \"sp\": parse_ncbi(blast.locations.sp.lglob(description_glob)[0]),\n",
    "    \"taxo\": parse_ncbi(blast.locations.anthony.lglob(description_glob)[0]),\n",
    "    \"hypo\": parse_ncbi(blast.locations.anthony.lglob(\"*.csv\")[1])\n",
    "}))"
   ]
  },
  {
   "cell_type": "markdown",
   "metadata": {},
   "source": [
    "This is probably unnecessary given that we now have all the information from the genbank !"
   ]
  },
  {
   "cell_type": "code",
   "execution_count": 10,
   "metadata": {},
   "outputs": [],
   "source": [
    "#blast.data.taxo.loc[:, \"Description\"] = add_function(blast.data.taxo.Description)\n",
    "blast.data.taxo.loc[:, \"function\"] = add_function(blast.data.taxo.Description)\n",
    "blast.data.taxo.loc[:, \"species\"] = add_species(blast.data.taxo.Description)"
   ]
  },
  {
   "cell_type": "code",
   "execution_count": 11,
   "metadata": {},
   "outputs": [],
   "source": [
    "#blast.data.cinqk.loc[:, \"Description\"] = add_function(blast.data.cinqk.Description)\n",
    "blast.data.cinqk.loc[:, \"function\"] = add_function(blast.data.cinqk.Description)\n",
    "blast.data.cinqk.loc[:, \"species\"] = add_species(blast.data.cinqk.Description)"
   ]
  },
  {
   "cell_type": "code",
   "execution_count": 12,
   "metadata": {},
   "outputs": [],
   "source": [
    "tests = pd.read_csv(\"efetch-tests.csv\")"
   ]
  },
  {
   "cell_type": "code",
   "execution_count": 13,
   "metadata": {},
   "outputs": [],
   "source": [
    "with entrez.efetch(db=\"protein\", id=tests.Accession.to_list(), rettype=\"gb\", retmode=\"text\") as finallyyeah:\n",
    "    y = [ entry for entry in seqio.parse(finallyyeah, format=\"gb\") ]"
   ]
  },
  {
   "cell_type": "code",
   "execution_count": 22,
   "metadata": {},
   "outputs": [
    {
     "data": {
      "text/plain": [
       "{'topology': 'linear',\n",
       " 'data_file_division': 'ENV',\n",
       " 'date': '01-SEP-2020',\n",
       " 'accessions': ['MBC8297997'],\n",
       " 'sequence_version': 1,\n",
       " 'db_source': 'accession JACNKM010000857.1',\n",
       " 'keywords': ['ENV'],\n",
       " 'source': 'Pelagibacterales bacterium (marine metagenome)',\n",
       " 'organism': 'Pelagibacterales bacterium',\n",
       " 'taxonomy': ['Bacteria',\n",
       "  'Proteobacteria',\n",
       "  'Alphaproteobacteria',\n",
       "  'Pelagibacterales',\n",
       "  'unclassified Pelagibacterales'],\n",
       " 'references': [Reference(title='Bridging the membrane lipid divide: bacteria of the FCB group superphylum have the potential to synthesize archaeal ether lipids', ...),\n",
       "  Reference(title='Direct Submission', ...)],\n",
       " 'comment': 'The annotation was added by the NCBI Prokaryotic Genome Annotation\\nPipeline (PGAP). Information about PGAP can be found here:\\nhttps://www.ncbi.nlm.nih.gov/genome/annotation_prok/',\n",
       " 'structured_comment': OrderedDict([('Genome-Assembly-Data',\n",
       "               OrderedDict([('Assembly Method', 'metaSPAdes v. v3.8.0'),\n",
       "                            ('Genome Representation', 'Full'),\n",
       "                            ('Expected Final Version', 'Yes'),\n",
       "                            ('Genome Coverage', '13.8x'),\n",
       "                            ('Sequencing Technology', 'Illumina MiSeq')])),\n",
       "              ('Genome-Annotation-Data',\n",
       "               OrderedDict([('Annotation Provider', 'NCBI'),\n",
       "                            ('Annotation Date', '08/18/2020 21:36:07'),\n",
       "                            ('Annotation Pipeline',\n",
       "                             'NCBI Prokaryotic Genome Annotation Pipeline (PGAP)'),\n",
       "                            ('Annotation Method',\n",
       "                             'Best-placed reference protein set; GeneMarkS-2+'),\n",
       "                            ('Annotation Software revision', '4.12'),\n",
       "                            ('Features Annotated',\n",
       "                             'Gene; CDS; rRNA; tRNA; ncRNA; repeat_region'),\n",
       "                            ('Genes (total)', '15,131'),\n",
       "                            ('CDSs (total)', '14,876'),\n",
       "                            ('Genes (coding)', '14,706'),\n",
       "                            ('CDSs (with protein)', '14,706'),\n",
       "                            ('Genes (RNA)', '255'),\n",
       "                            ('rRNAs', '6, 5, 2 (5S, 16S, 23S)'),\n",
       "                            ('complete rRNAs', '5, 2 (5S, 16S)'),\n",
       "                            ('partial rRNAs', '1, 3, 2 (5S, 16S, 23S)'),\n",
       "                            ('tRNAs', '220'),\n",
       "                            ('ncRNAs', '22'),\n",
       "                            ('Pseudo Genes (total)', '170'),\n",
       "                            ('CDSs (without protein)', '170'),\n",
       "                            ('Pseudo Genes (ambiguous residues)', '3 of 170'),\n",
       "                            ('Pseudo Genes (frameshifted)', '57 of 170'),\n",
       "                            ('Pseudo Genes (incomplete)', '64 of 170'),\n",
       "                            ('Pseudo Genes (internal stop)', '54 of 170'),\n",
       "                            ('Pseudo Genes (multiple problems)',\n",
       "                             '8 of 170')]))]),\n",
       " 'molecule_type': 'protein'}"
      ]
     },
     "execution_count": 22,
     "metadata": {},
     "output_type": "execute_result"
    }
   ],
   "source": [
    "y[0].annotations"
   ]
  },
  {
   "cell_type": "code",
   "execution_count": 23,
   "metadata": {},
   "outputs": [
    {
     "name": "stdout",
     "output_type": "stream",
     "text": [
      "1\n",
      "1\n",
      "1\n",
      "1\n",
      "1\n",
      "1\n",
      "1\n",
      "1\n",
      "1\n",
      "1\n",
      "1\n",
      "1\n",
      "1\n",
      "1\n",
      "1\n"
     ]
    }
   ],
   "source": [
    "for i in y:\n",
    "    print(len(i.annotations[\"accessions\"]))"
   ]
  },
  {
   "cell_type": "code",
   "execution_count": 14,
   "metadata": {},
   "outputs": [
    {
     "name": "stdout",
     "output_type": "stream",
     "text": [
      "['Bacteria', 'Proteobacteria', 'Alphaproteobacteria', 'Pelagibacterales', 'unclassified Pelagibacterales']\n",
      "[]\n",
      "['Bacteria', 'Proteobacteria', 'Gammaproteobacteria']\n",
      "['Bacteria', 'Proteobacteria', 'Gammaproteobacteria']\n",
      "['Bacteria', 'Proteobacteria', 'Gammaproteobacteria']\n",
      "['Bacteria', 'Proteobacteria', 'Gammaproteobacteria']\n",
      "['Bacteria', 'Proteobacteria', 'Gammaproteobacteria']\n",
      "['Bacteria', 'Proteobacteria', 'Gammaproteobacteria']\n",
      "['Bacteria', 'Proteobacteria', 'Gammaproteobacteria']\n",
      "['Bacteria', 'Proteobacteria', 'Gammaproteobacteria']\n",
      "['Bacteria', 'Proteobacteria', 'Gammaproteobacteria']\n",
      "['Bacteria', 'Firmicutes', 'Erysipelotrichia', 'Erysipelotrichales', 'Erysipelotrichaceae', 'Turicibacter']\n",
      "['Bacteria', 'Firmicutes', 'Erysipelotrichia', 'Erysipelotrichales', 'Erysipelotrichaceae', 'Turicibacter']\n",
      "['Bacteria', 'Firmicutes', 'Erysipelotrichia', 'Erysipelotrichales', 'Erysipelotrichaceae', 'Turicibacter']\n",
      "['Bacteria', 'Proteobacteria', 'Gammaproteobacteria']\n"
     ]
    }
   ],
   "source": [
    "for i in y:\n",
    "    print(i.annotations[\"taxonomy\"])"
   ]
  },
  {
   "cell_type": "code",
   "execution_count": null,
   "metadata": {},
   "outputs": [],
   "source": []
  },
  {
   "cell_type": "code",
   "execution_count": 78,
   "metadata": {},
   "outputs": [
    {
     "data": {
      "text/html": [
       "<div>\n",
       "<style scoped>\n",
       "    .dataframe tbody tr th:only-of-type {\n",
       "        vertical-align: middle;\n",
       "    }\n",
       "\n",
       "    .dataframe tbody tr th {\n",
       "        vertical-align: top;\n",
       "    }\n",
       "\n",
       "    .dataframe thead th {\n",
       "        text-align: right;\n",
       "    }\n",
       "</style>\n",
       "<table border=\"1\" class=\"dataframe\">\n",
       "  <thead>\n",
       "    <tr style=\"text-align: right;\">\n",
       "      <th></th>\n",
       "      <th>Description</th>\n",
       "      <th>Common Name</th>\n",
       "      <th>Max Score</th>\n",
       "      <th>Total Score</th>\n",
       "      <th>Query Cover</th>\n",
       "      <th>E value</th>\n",
       "      <th>Per. ident</th>\n",
       "      <th>Acc. Len</th>\n",
       "      <th>Accession</th>\n",
       "      <th>function</th>\n",
       "      <th>species</th>\n",
       "    </tr>\n",
       "  </thead>\n",
       "  <tbody>\n",
       "    <tr>\n",
       "      <th>0</th>\n",
       "      <td>hypothetical protein [Gammaproteobacteria bact...</td>\n",
       "      <td>Gammaproteobacteria bacterium</td>\n",
       "      <td>672</td>\n",
       "      <td>672</td>\n",
       "      <td>100.0</td>\n",
       "      <td>0.000000e+00</td>\n",
       "      <td>95.16</td>\n",
       "      <td>687</td>\n",
       "      <td>MAO06092.1</td>\n",
       "      <td>hypothetical protein</td>\n",
       "      <td>Gammaproteobacteria bacterium</td>\n",
       "    </tr>\n",
       "    <tr>\n",
       "      <th>1</th>\n",
       "      <td>hypothetical protein [Gammaproteobacteria bact...</td>\n",
       "      <td>Gammaproteobacteria bacterium</td>\n",
       "      <td>662</td>\n",
       "      <td>662</td>\n",
       "      <td>100.0</td>\n",
       "      <td>0.000000e+00</td>\n",
       "      <td>94.02</td>\n",
       "      <td>687</td>\n",
       "      <td>MBS55433.1</td>\n",
       "      <td>hypothetical protein</td>\n",
       "      <td>Gammaproteobacteria bacterium</td>\n",
       "    </tr>\n",
       "    <tr>\n",
       "      <th>2</th>\n",
       "      <td>hypothetical protein [Gammaproteobacteria bact...</td>\n",
       "      <td>Gammaproteobacteria bacterium</td>\n",
       "      <td>303</td>\n",
       "      <td>303</td>\n",
       "      <td>100.0</td>\n",
       "      <td>5.000000e-95</td>\n",
       "      <td>42.90</td>\n",
       "      <td>553</td>\n",
       "      <td>MBK47166.1</td>\n",
       "      <td>hypothetical protein</td>\n",
       "      <td>Gammaproteobacteria bacterium</td>\n",
       "    </tr>\n",
       "    <tr>\n",
       "      <th>3</th>\n",
       "      <td>ATP-dependent DNA helicase RecG [bacterium TME...</td>\n",
       "      <td>bacterium TMED221</td>\n",
       "      <td>306</td>\n",
       "      <td>306</td>\n",
       "      <td>100.0</td>\n",
       "      <td>2.000000e-94</td>\n",
       "      <td>44.60</td>\n",
       "      <td>690</td>\n",
       "      <td>RPH01348.1</td>\n",
       "      <td>ATP-dependent DNA helicase RecG</td>\n",
       "      <td>bacterium TMED221</td>\n",
       "    </tr>\n",
       "    <tr>\n",
       "      <th>4</th>\n",
       "      <td>hypothetical protein [Gammaproteobacteria bact...</td>\n",
       "      <td>Gammaproteobacteria bacterium</td>\n",
       "      <td>300</td>\n",
       "      <td>300</td>\n",
       "      <td>99.0</td>\n",
       "      <td>2.000000e-92</td>\n",
       "      <td>43.59</td>\n",
       "      <td>692</td>\n",
       "      <td>MBJ40943.1</td>\n",
       "      <td>hypothetical protein</td>\n",
       "      <td>Gammaproteobacteria bacterium</td>\n",
       "    </tr>\n",
       "  </tbody>\n",
       "</table>\n",
       "</div>"
      ],
      "text/plain": [
       "                                         Description  \\\n",
       "0  hypothetical protein [Gammaproteobacteria bact...   \n",
       "1  hypothetical protein [Gammaproteobacteria bact...   \n",
       "2  hypothetical protein [Gammaproteobacteria bact...   \n",
       "3  ATP-dependent DNA helicase RecG [bacterium TME...   \n",
       "4  hypothetical protein [Gammaproteobacteria bact...   \n",
       "\n",
       "                     Common Name  Max Score  Total Score  Query Cover  \\\n",
       "0  Gammaproteobacteria bacterium        672          672        100.0   \n",
       "1  Gammaproteobacteria bacterium        662          662        100.0   \n",
       "2  Gammaproteobacteria bacterium        303          303        100.0   \n",
       "3              bacterium TMED221        306          306        100.0   \n",
       "4  Gammaproteobacteria bacterium        300          300         99.0   \n",
       "\n",
       "        E value  Per. ident  Acc. Len   Accession  \\\n",
       "0  0.000000e+00       95.16       687  MAO06092.1   \n",
       "1  0.000000e+00       94.02       687  MBS55433.1   \n",
       "2  5.000000e-95       42.90       553  MBK47166.1   \n",
       "3  2.000000e-94       44.60       690  RPH01348.1   \n",
       "4  2.000000e-92       43.59       692  MBJ40943.1   \n",
       "\n",
       "                           function                        species  \n",
       "0             hypothetical protein   Gammaproteobacteria bacterium  \n",
       "1             hypothetical protein   Gammaproteobacteria bacterium  \n",
       "2             hypothetical protein   Gammaproteobacteria bacterium  \n",
       "3  ATP-dependent DNA helicase RecG               bacterium TMED221  \n",
       "4             hypothetical protein   Gammaproteobacteria bacterium  "
      ]
     },
     "execution_count": 78,
     "metadata": {},
     "output_type": "execute_result"
    }
   ],
   "source": [
    "# SAVE AS GENEBANK ! \n",
    "# FASTA LOSES LOTS OF INFORMATION !\n",
    "blast.data.cinqk.head()"
   ]
  },
  {
   "cell_type": "code",
   "execution_count": 79,
   "metadata": {},
   "outputs": [],
   "source": [
    "with entrez.efetch(db=\"protein\", id=blast.data.cinqk.Accession.to_list(), rettype=\"gb\", retmode=\"text\") as in_handle:\n",
    "    with open(\"5k-info.gb\", \"w\") as out_handle:\n",
    "        sequences = seqio.parse(in_handle, format=\"gb\")\n",
    "        seqio.write(sequences, out_handle, format=\"gb\") "
   ]
  },
  {
   "cell_type": "code",
   "execution_count": 61,
   "metadata": {
    "scrolled": false
   },
   "outputs": [
    {
     "name": "stdout",
     "output_type": "stream",
     "text": [
      "LOCUS       EU490707                1302 bp    DNA     linear   PLN 26-JUL-2016\n",
      "DEFINITION  Selenipedium aequinoctiale maturase K (matK) gene, partial cds;\n",
      "            chloroplast.\n",
      "ACCESSION   EU490707\n",
      "VERSION     EU490707.1\n",
      "KEYWORDS    .\n",
      "SOURCE      chloroplast Selenipedium aequinoctiale\n",
      "  ORGANISM  Selenipedium aequinoctiale\n",
      "            Eukaryota; Viridiplantae; Streptophyta; Embryophyta; Tracheophyta;\n",
      "            Spermatophyta; Magnoliopsida; Liliopsida; Asparagales; Orchidaceae;\n",
      "            Cypripedioideae; Selenipedium.\n",
      "REFERENCE   1  (bases 1 to 1302)\n",
      "  AUTHORS   Neubig,K.M., Whitten,W.M., Carlsward,B.S., Blanco,M.A., Endara,L.,\n",
      "            Williams,N.H. and Moore,M.\n",
      "  TITLE     Phylogenetic utility of ycf1 in orchids: a plastid gene more\n",
      "            variable than matK\n",
      "  JOURNAL   Plant Syst. Evol. 277 (1-2), 75-84 (2009)\n",
      "REFERENCE   2  (bases 1 to 1302)\n",
      "  AUTHORS   Neubig,K.M., Whitten,W.M., Carlsward,B.S., Blanco,M.A.,\n",
      "            Endara,C.L., Williams,N.H. and Moore,M.J.\n",
      "  TITLE     Direct Submission\n",
      "  JOURNAL   Submitted (14-FEB-2008) Department of Botany, University of\n",
      "            Florida, 220 Bartram Hall, Gainesville, FL 32611-8526, USA\n",
      "FEATURES             Location/Qualifiers\n",
      "     source          1..1302\n",
      "                     /organism=\"Selenipedium aequinoctiale\"\n",
      "                     /organelle=\"plastid:chloroplast\"\n",
      "                     /mol_type=\"genomic DNA\"\n",
      "                     /specimen_voucher=\"FLAS:Blanco 2475\"\n",
      "                     /db_xref=\"taxon:256374\"\n",
      "     gene            <1..>1302\n",
      "                     /gene=\"matK\"\n",
      "     CDS             <1..>1302\n",
      "                     /gene=\"matK\"\n",
      "                     /codon_start=1\n",
      "                     /transl_table=11\n",
      "                     /product=\"maturase K\"\n",
      "                     /protein_id=\"ACC99456.1\"\n",
      "                     /translation=\"IFYEPVEIFGYDNKSSLVLVKRLITRMYQQNFLISSVNDSNQKG\n",
      "                     FWGHKHFFSSHFSSQMVSEGFGVILEIPFSSQLVSSLEEKKIPKYQNLRSIHSIFPFL\n",
      "                     EDKFLHLNYVSDLLIPHPIHLEILVQILQCRIKDVPSLHLLRLLFHEYHNLNSLITSK\n",
      "                     KFIYAFSKRKKRFLWLLYNSYVYECEYLFQFLRKQSSYLRSTSSGVFLERTHLYVKIE\n",
      "                     HLLVVCCNSFQRILCFLKDPFMHYVRYQGKAILASKGTLILMKKWKFHLVNFWQSYFH\n",
      "                     FWSQPYRIHIKQLSNYSFSFLGYFSSVLENHLVVRNQMLENSFIINLLTKKFDTIAPV\n",
      "                     ISLIGSLSKAQFCTVLGHPISKPIWTDFSDSDILDRFCRICRNLCRYHSGSSKKQVLY\n",
      "                     RIKYILRLSCARTLARKHKSTVRTFMRRLGSGLLEEFFMEEE\"\n",
      "ORIGIN      \n",
      "        1 attttttacg aacctgtgga aatttttggt tatgacaata aatctagttt agtacttgtg\n",
      "       61 aaacgtttaa ttactcgaat gtatcaacag aattttttga tttcttcggt taatgattct\n",
      "      121 aaccaaaaag gattttgggg gcacaagcat tttttttctt ctcatttttc ttctcaaatg\n",
      "      181 gtatcagaag gttttggagt cattctggaa attccattct cgtcgcaatt agtatcttct\n",
      "      241 cttgaagaaa aaaaaatacc aaaatatcag aatttacgat ctattcattc aatatttccc\n",
      "      301 tttttagaag acaaattttt acatttgaat tatgtgtcag atctactaat accccatccc\n",
      "      361 atccatctgg aaatcttggt tcaaatcctt caatgccgga tcaaggatgt tccttctttg\n",
      "      421 catttattgc gattgctttt ccacgaatat cataatttga atagtctcat tacttcaaag\n",
      "      481 aaattcattt acgccttttc aaaaagaaag aaaagattcc tttggttact atataattct\n",
      "      541 tatgtatatg aatgcgaata tctattccag tttcttcgta aacagtcttc ttatttacga\n",
      "      601 tcaacatctt ctggagtctt tcttgagcga acacatttat atgtaaaaat agaacatctt\n",
      "      661 ctagtagtgt gttgtaattc ttttcagagg atcctatgct ttctcaagga tcctttcatg\n",
      "      721 cattatgttc gatatcaagg aaaagcaatt ctggcttcaa agggaactct tattctgatg\n",
      "      781 aagaaatgga aatttcatct tgtgaatttt tggcaatctt attttcactt ttggtctcaa\n",
      "      841 ccgtatagga ttcatataaa gcaattatcc aactattcct tctcttttct ggggtatttt\n",
      "      901 tcaagtgtac tagaaaatca tttggtagta agaaatcaaa tgctagagaa ttcatttata\n",
      "      961 ataaatcttc tgactaagaa attcgatacc atagccccag ttatttctct tattggatca\n",
      "     1021 ttgtcgaaag ctcaattttg tactgtattg ggtcatccta ttagtaaacc gatctggacc\n",
      "     1081 gatttctcgg attctgatat tcttgatcga ttttgccgga tatgtagaaa tctttgtcgt\n",
      "     1141 tatcacagcg gatcctcaaa aaaacaggtt ttgtatcgta taaaatatat acttcgactt\n",
      "     1201 tcgtgtgcta gaactttggc acggaaacat aaaagtacag tacgcacttt tatgcgaaga\n",
      "     1261 ttaggttcgg gattattaga agaattcttt atggaagaag aa\n",
      "//\n",
      "\n",
      "\n"
     ]
    }
   ],
   "source": [
    "# some dummy test : \n",
    "with entrez.efetch(db=\"nucleotide\", id=\"EU490707\", rettype=\"gb\", retmode=\"text\") as wow:\n",
    "    print(wow.read())"
   ]
  },
  {
   "cell_type": "code",
   "execution_count": 18,
   "metadata": {},
   "outputs": [
    {
     "name": "stdout",
     "output_type": "stream",
     "text": [
      "Help on function efetch in module Bio.Entrez:\n",
      "\n",
      "efetch(db, **keywords)\n",
      "    Fetch Entrez results which are returned as a handle.\n",
      "    \n",
      "    EFetch retrieves records in the requested format from a list or set of one or\n",
      "    more UIs or from user's environment.\n",
      "    \n",
      "    See the online documentation for an explanation of the parameters:\n",
      "    http://www.ncbi.nlm.nih.gov/books/NBK25499/#chapter4.EFetch\n",
      "    \n",
      "    Return a handle to the results.\n",
      "    \n",
      "    Raises an IOError exception if there's a network error.\n",
      "    \n",
      "    Short example:\n",
      "    \n",
      "    >>> from Bio import Entrez\n",
      "    >>> Entrez.email = \"Your.Name.Here@example.org\"\n",
      "    >>> handle = Entrez.efetch(db=\"nucleotide\", id=\"AY851612\", rettype=\"gb\", retmode=\"text\")\n",
      "    >>> print(handle.readline().strip())\n",
      "    LOCUS       AY851612                 892 bp    DNA     linear   PLN 10-APR-2007\n",
      "    >>> handle.close()\n",
      "    \n",
      "    This will automatically use an HTTP POST rather than HTTP GET if there\n",
      "    are over 200 identifiers as recommended by the NCBI.\n",
      "    \n",
      "    **Warning:** The NCBI changed the default retmode in Feb 2012, so many\n",
      "    databases which previously returned text output now give XML.\n",
      "\n"
     ]
    }
   ],
   "source": [
    "help(entrez.efetch)"
   ]
  },
  {
   "cell_type": "code",
   "execution_count": null,
   "metadata": {},
   "outputs": [],
   "source": []
  }
 ],
 "metadata": {
  "kernelspec": {
   "display_name": "Python 3",
   "language": "python",
   "name": "python3"
  },
  "language_info": {
   "codemirror_mode": {
    "name": "ipython",
    "version": 3
   },
   "file_extension": ".py",
   "mimetype": "text/x-python",
   "name": "python",
   "nbconvert_exporter": "python",
   "pygments_lexer": "ipython3",
   "version": "3.8.6"
  }
 },
 "nbformat": 4,
 "nbformat_minor": 4
}
